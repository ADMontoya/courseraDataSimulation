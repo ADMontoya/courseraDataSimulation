{
 "cells": [
  {
   "cell_type": "markdown",
   "metadata": {},
   "source": [
    "<br><br><br><br><br><h1 style=\"font-size:4em;color:#2467C0\">Welcome to Week 4</h1><br><br><br>"
   ]
  },
  {
   "cell_type": "markdown",
   "metadata": {},
   "source": [
    "<div style=\"color:black;font-family: Arial; font-size:1.1em;line-height:65%\">\n",
    "\n",
    "<p style=\"line-height:31px;\">This document provides a running example of completing the Week 4 assignment : </p>\n",
    "<ul class=\"simple\">\n",
    "<li style=\"line-height:31px;\">A shorter version with fewer comments is available as script: sparkMLlibClustering.py</li>\n",
    "<li style=\"line-height:31px;\">To run these commands in Cloudera VM: first run the setup script: setupWeek4.sh</li>\n",
    "<li style=\"line-height:31px;\">You can then copy paste these commands in pySpark. </li>\n",
    "<li style=\"line-height:31px;\">To open pySpark, refer to : <a class=\"reference external\" href=\"https://www.coursera.org/learn/machinelearningwithbigdata/supplement/GTFQ0/slides-module-2-lesson-3\">Week 2</a> and <a class=\"reference external\" href=\"https://www.coursera.org/learn/machinelearningwithbigdata/supplement/RH1zz/download-lesson-2-slides-spark-mllib-clustering\">Week 4</a> of the Machine Learning course</li>\n",
    "<li style=\"line-height:31px;\">Note that your dataset may be different from what is used here, so your results may not match with those shown here</li>\n",
    "</ul></div>"
   ]
  },
  {
   "cell_type": "code",
   "execution_count": 1,
   "metadata": {
    "collapsed": true
   },
   "outputs": [],
   "source": [
    "import pandas as pd\n",
    "from pyspark.mllib.clustering import KMeans, KMeansModel\n",
    "from numpy import array"
   ]
  },
  {
   "cell_type": "markdown",
   "metadata": {},
   "source": [
    "<br><br>\n",
    "<u><h1 style=\"font-family: Arial; font-size:1.5em;color:#2462C0\">Step 1: Attribute Selection</h1></u>\n",
    "<br><br><h1 style=\"font-family: Arial; font-size:1.5em;color:#2462C0\">Import Data</h1><br><br> \n",
    "\n",
    "\n",
    "<div style=\"color:black;font-family: Arial; font-size:1.1em;line-height:65%\">\n",
    "\n",
    "<p style=\"line-height:31px;\">First let us read the contents of the file ad-clicks.csv. The following commands read in the CSV file in a table format and removes any extra whitespaces. So, if the CSV contained ' userid  ' it becomes 'userid'. <br><br>\n",
    "\n",
    "\n",
    "Note that you must change the path to ad-clicks.csv to the location on your machine, if you want to run this command on your machine.\n",
    "</p>\n",
    "\n",
    "</div>\n",
    "\n",
    "<br><br><br><br>"
   ]
  },
  {
   "cell_type": "code",
   "execution_count": 2,
   "metadata": {
    "collapsed": true
   },
   "outputs": [],
   "source": [
    "adclicksDF = pd.read_csv('/Users/aloksingh/Downloads/capstone/second/courseraDataSimulation/ad-clicks.csv')\n",
    "adclicksDF = adclicksDF.rename(columns=lambda x: x.strip()) #remove whitespaces from headers"
   ]
  },
  {
   "cell_type": "markdown",
   "metadata": {},
   "source": [
    "<br><br><br><br>\n",
    "\n",
    "<div style=\"color:black;font-family: Arial; font-size:1.1em;line-height:65%\">\n",
    "\n",
    "<p style=\"line-height:31px;\">Let us display the first 5 lines of adclicksDF:</p>\n",
    "\n",
    "</div>\n",
    "\n",
    "<br><br><br><br>"
   ]
  },
  {
   "cell_type": "code",
   "execution_count": 3,
   "metadata": {
    "collapsed": false
   },
   "outputs": [
    {
     "data": {
      "text/html": [
       "<div>\n",
       "<table border=\"1\" class=\"dataframe\">\n",
       "  <thead>\n",
       "    <tr style=\"text-align: right;\">\n",
       "      <th></th>\n",
       "      <th>timestamp</th>\n",
       "      <th>txID</th>\n",
       "      <th>userSessionid</th>\n",
       "      <th>teamid</th>\n",
       "      <th>userid</th>\n",
       "      <th>adID</th>\n",
       "      <th>adCategory</th>\n",
       "    </tr>\n",
       "  </thead>\n",
       "  <tbody>\n",
       "    <tr>\n",
       "      <th>0</th>\n",
       "      <td>2016-05-23 15:52:24</td>\n",
       "      <td>6045</td>\n",
       "      <td>6020</td>\n",
       "      <td>81</td>\n",
       "      <td>1362</td>\n",
       "      <td>10</td>\n",
       "      <td>fashion</td>\n",
       "    </tr>\n",
       "    <tr>\n",
       "      <th>1</th>\n",
       "      <td>2016-05-23 15:56:20</td>\n",
       "      <td>6043</td>\n",
       "      <td>6029</td>\n",
       "      <td>71</td>\n",
       "      <td>38</td>\n",
       "      <td>19</td>\n",
       "      <td>movies</td>\n",
       "    </tr>\n",
       "    <tr>\n",
       "      <th>2</th>\n",
       "      <td>2016-05-23 15:58:11</td>\n",
       "      <td>6038</td>\n",
       "      <td>5721</td>\n",
       "      <td>23</td>\n",
       "      <td>766</td>\n",
       "      <td>19</td>\n",
       "      <td>movies</td>\n",
       "    </tr>\n",
       "    <tr>\n",
       "      <th>3</th>\n",
       "      <td>2016-05-23 16:00:45</td>\n",
       "      <td>6046</td>\n",
       "      <td>5877</td>\n",
       "      <td>60</td>\n",
       "      <td>999</td>\n",
       "      <td>18</td>\n",
       "      <td>movies</td>\n",
       "    </tr>\n",
       "    <tr>\n",
       "      <th>4</th>\n",
       "      <td>2016-05-23 16:04:28</td>\n",
       "      <td>6037</td>\n",
       "      <td>5891</td>\n",
       "      <td>111</td>\n",
       "      <td>1674</td>\n",
       "      <td>1</td>\n",
       "      <td>automotive</td>\n",
       "    </tr>\n",
       "  </tbody>\n",
       "</table>\n",
       "</div>"
      ],
      "text/plain": [
       "             timestamp  txID  userSessionid  teamid  userid  adID   adCategory\n",
       "0  2016-05-23 15:52:24  6045           6020      81    1362    10      fashion\n",
       "1  2016-05-23 15:56:20  6043           6029      71      38    19       movies\n",
       "2  2016-05-23 15:58:11  6038           5721      23     766    19       movies\n",
       "3  2016-05-23 16:00:45  6046           5877      60     999    18       movies\n",
       "4  2016-05-23 16:04:28  6037           5891     111    1674     1   automotive"
      ]
     },
     "execution_count": 3,
     "metadata": {},
     "output_type": "execute_result"
    }
   ],
   "source": [
    "adclicksDF.head(n=5)"
   ]
  },
  {
   "cell_type": "markdown",
   "metadata": {},
   "source": [
    "<br><br><br><br>\n",
    "\n",
    "<div style=\"color:black;font-family: Arial; font-size:1.1em;line-height:65%\">\n",
    "\n",
    "<p style=\"line-height:31px;\">Next, We are going to add an extra column to the ad-clicks table and make it equal to 1. We do so to record the fact that each ROW is 1 ad-click. \n",
    "You will see how this will become useful when we sum up this column to find how many ads\n",
    "did a user click.</p>\n",
    "\n",
    "</div>\n",
    "\n",
    "<br><br><br><br>"
   ]
  },
  {
   "cell_type": "code",
   "execution_count": 4,
   "metadata": {
    "collapsed": true
   },
   "outputs": [],
   "source": [
    "adclicksDF['adCount'] = 1"
   ]
  },
  {
   "cell_type": "markdown",
   "metadata": {},
   "source": [
    "<br><br><br><br>\n",
    "\n",
    "<div style=\"color:black;font-family: Arial; font-size:1.1em;line-height:65%\">\n",
    "\n",
    "<p style=\"line-height:31px;\">Let us display the first 5 lines of adclicksDF and see if \n",
    "a new column has been added:</p>\n",
    "\n",
    "</div>\n",
    "\n",
    "<br><br><br><br>"
   ]
  },
  {
   "cell_type": "code",
   "execution_count": 5,
   "metadata": {
    "collapsed": false
   },
   "outputs": [
    {
     "data": {
      "text/html": [
       "<div>\n",
       "<table border=\"1\" class=\"dataframe\">\n",
       "  <thead>\n",
       "    <tr style=\"text-align: right;\">\n",
       "      <th></th>\n",
       "      <th>timestamp</th>\n",
       "      <th>txID</th>\n",
       "      <th>userSessionid</th>\n",
       "      <th>teamid</th>\n",
       "      <th>userid</th>\n",
       "      <th>adID</th>\n",
       "      <th>adCategory</th>\n",
       "      <th>adCount</th>\n",
       "    </tr>\n",
       "  </thead>\n",
       "  <tbody>\n",
       "    <tr>\n",
       "      <th>0</th>\n",
       "      <td>2016-05-23 15:52:24</td>\n",
       "      <td>6045</td>\n",
       "      <td>6020</td>\n",
       "      <td>81</td>\n",
       "      <td>1362</td>\n",
       "      <td>10</td>\n",
       "      <td>fashion</td>\n",
       "      <td>1</td>\n",
       "    </tr>\n",
       "    <tr>\n",
       "      <th>1</th>\n",
       "      <td>2016-05-23 15:56:20</td>\n",
       "      <td>6043</td>\n",
       "      <td>6029</td>\n",
       "      <td>71</td>\n",
       "      <td>38</td>\n",
       "      <td>19</td>\n",
       "      <td>movies</td>\n",
       "      <td>1</td>\n",
       "    </tr>\n",
       "    <tr>\n",
       "      <th>2</th>\n",
       "      <td>2016-05-23 15:58:11</td>\n",
       "      <td>6038</td>\n",
       "      <td>5721</td>\n",
       "      <td>23</td>\n",
       "      <td>766</td>\n",
       "      <td>19</td>\n",
       "      <td>movies</td>\n",
       "      <td>1</td>\n",
       "    </tr>\n",
       "    <tr>\n",
       "      <th>3</th>\n",
       "      <td>2016-05-23 16:00:45</td>\n",
       "      <td>6046</td>\n",
       "      <td>5877</td>\n",
       "      <td>60</td>\n",
       "      <td>999</td>\n",
       "      <td>18</td>\n",
       "      <td>movies</td>\n",
       "      <td>1</td>\n",
       "    </tr>\n",
       "    <tr>\n",
       "      <th>4</th>\n",
       "      <td>2016-05-23 16:04:28</td>\n",
       "      <td>6037</td>\n",
       "      <td>5891</td>\n",
       "      <td>111</td>\n",
       "      <td>1674</td>\n",
       "      <td>1</td>\n",
       "      <td>automotive</td>\n",
       "      <td>1</td>\n",
       "    </tr>\n",
       "  </tbody>\n",
       "</table>\n",
       "</div>"
      ],
      "text/plain": [
       "             timestamp  txID  userSessionid  teamid  userid  adID  \\\n",
       "0  2016-05-23 15:52:24  6045           6020      81    1362    10   \n",
       "1  2016-05-23 15:56:20  6043           6029      71      38    19   \n",
       "2  2016-05-23 15:58:11  6038           5721      23     766    19   \n",
       "3  2016-05-23 16:00:45  6046           5877      60     999    18   \n",
       "4  2016-05-23 16:04:28  6037           5891     111    1674     1   \n",
       "\n",
       "    adCategory  adCount  \n",
       "0      fashion        1  \n",
       "1       movies        1  \n",
       "2       movies        1  \n",
       "3       movies        1  \n",
       "4   automotive        1  "
      ]
     },
     "execution_count": 5,
     "metadata": {},
     "output_type": "execute_result"
    }
   ],
   "source": [
    "adclicksDF.head(n=5)"
   ]
  },
  {
   "cell_type": "markdown",
   "metadata": {},
   "source": [
    "<br><br><br><br>\n",
    "\n",
    "<div style=\"color:black;font-family: Arial; font-size:1.1em;line-height:65%\">\n",
    "\n",
    "<p style=\"line-height:31px;\">Next, let us read the contents of the file buy-clicks.csv. As before, the following commands read in the CSV file in a table format and removes any extra whitespaces. So, if the CSV contained ' userid  ' it becomes 'userid'. <br><br>\n",
    "\n",
    "\n",
    "Note that you must change the path to buy-clicks.csv to the location on your machine, if you want to run this command on your machine.\n",
    "</p>\n",
    "\n",
    "</div>\n",
    "\n",
    "<br><br><br><br>"
   ]
  },
  {
   "cell_type": "code",
   "execution_count": 6,
   "metadata": {
    "collapsed": false
   },
   "outputs": [],
   "source": [
    "buyclicksDF = pd.read_csv('/Users/aloksingh/Downloads/capstone/second/courseraDataSimulation/buy-clicks.csv')\n",
    "buyclicksDF = buyclicksDF.rename(columns=lambda x: x.strip()) #removes whitespaces from headers"
   ]
  },
  {
   "cell_type": "markdown",
   "metadata": {},
   "source": [
    "<br><br><br><br>\n",
    "\n",
    "<div style=\"color:black;font-family: Arial; font-size:1.1em;line-height:65%\">\n",
    "\n",
    "<p style=\"line-height:31px;\">Let us display the first 5 lines of buyclicksDF:</p>\n",
    "\n",
    "</div>\n",
    "\n",
    "<br><br><br><br>"
   ]
  },
  {
   "cell_type": "code",
   "execution_count": 7,
   "metadata": {
    "collapsed": false
   },
   "outputs": [
    {
     "data": {
      "text/html": [
       "<div>\n",
       "<table border=\"1\" class=\"dataframe\">\n",
       "  <thead>\n",
       "    <tr style=\"text-align: right;\">\n",
       "      <th></th>\n",
       "      <th>timestamp</th>\n",
       "      <th>txID</th>\n",
       "      <th>userSessionid</th>\n",
       "      <th>team</th>\n",
       "      <th>userid</th>\n",
       "      <th>buyid</th>\n",
       "      <th>price</th>\n",
       "    </tr>\n",
       "  </thead>\n",
       "  <tbody>\n",
       "    <tr>\n",
       "      <th>0</th>\n",
       "      <td>2016-05-23 16:19:14</td>\n",
       "      <td>6086</td>\n",
       "      <td>5692</td>\n",
       "      <td>115</td>\n",
       "      <td>2472</td>\n",
       "      <td>3</td>\n",
       "      <td>4.99</td>\n",
       "    </tr>\n",
       "    <tr>\n",
       "      <th>1</th>\n",
       "      <td>2016-05-23 16:19:14</td>\n",
       "      <td>6087</td>\n",
       "      <td>5690</td>\n",
       "      <td>33</td>\n",
       "      <td>2391</td>\n",
       "      <td>1</td>\n",
       "      <td>1.99</td>\n",
       "    </tr>\n",
       "    <tr>\n",
       "      <th>2</th>\n",
       "      <td>2016-05-23 16:49:14</td>\n",
       "      <td>6120</td>\n",
       "      <td>5693</td>\n",
       "      <td>6</td>\n",
       "      <td>2156</td>\n",
       "      <td>4</td>\n",
       "      <td>9.99</td>\n",
       "    </tr>\n",
       "    <tr>\n",
       "      <th>3</th>\n",
       "      <td>2016-05-23 16:49:14</td>\n",
       "      <td>6121</td>\n",
       "      <td>5689</td>\n",
       "      <td>69</td>\n",
       "      <td>502</td>\n",
       "      <td>0</td>\n",
       "      <td>0.99</td>\n",
       "    </tr>\n",
       "    <tr>\n",
       "      <th>4</th>\n",
       "      <td>2016-05-23 16:49:14</td>\n",
       "      <td>6122</td>\n",
       "      <td>5691</td>\n",
       "      <td>97</td>\n",
       "      <td>2198</td>\n",
       "      <td>2</td>\n",
       "      <td>2.99</td>\n",
       "    </tr>\n",
       "  </tbody>\n",
       "</table>\n",
       "</div>"
      ],
      "text/plain": [
       "             timestamp  txID  userSessionid  team  userid  buyid  price\n",
       "0  2016-05-23 16:19:14  6086           5692   115    2472      3   4.99\n",
       "1  2016-05-23 16:19:14  6087           5690    33    2391      1   1.99\n",
       "2  2016-05-23 16:49:14  6120           5693     6    2156      4   9.99\n",
       "3  2016-05-23 16:49:14  6121           5689    69     502      0   0.99\n",
       "4  2016-05-23 16:49:14  6122           5691    97    2198      2   2.99"
      ]
     },
     "execution_count": 7,
     "metadata": {},
     "output_type": "execute_result"
    }
   ],
   "source": [
    "buyclicksDF.head(n=5)"
   ]
  },
  {
   "cell_type": "markdown",
   "metadata": {},
   "source": [
    "<br><br>\n",
    "\n",
    "<br><br><h1 style=\"font-family: Arial; font-size:1.5em;color:#2462C0\">Feature Selection</h1><br><br>\n",
    "\n",
    "\n",
    "<div style=\"color:black;font-family: Arial; font-size:1.1em;line-height:65%\">\n",
    "\n",
    "<p style=\"line-height:31px;\">For this exercise, we can choose from buyclicksDF,  the 'price' of each app that a user purchases as an attribute that captures user's purchasing behavior. The following command selects 'userid' and 'price' and drops all other columns that we do not want to use at this stage.</p>\n",
    "\n",
    "\n",
    "</div>\n",
    "\n",
    "<br><br><br><br>"
   ]
  },
  {
   "cell_type": "code",
   "execution_count": 8,
   "metadata": {
    "collapsed": false
   },
   "outputs": [
    {
     "data": {
      "text/html": [
       "<div>\n",
       "<table border=\"1\" class=\"dataframe\">\n",
       "  <thead>\n",
       "    <tr style=\"text-align: right;\">\n",
       "      <th></th>\n",
       "      <th>userid</th>\n",
       "      <th>price</th>\n",
       "    </tr>\n",
       "  </thead>\n",
       "  <tbody>\n",
       "    <tr>\n",
       "      <th>0</th>\n",
       "      <td>2472</td>\n",
       "      <td>4.99</td>\n",
       "    </tr>\n",
       "    <tr>\n",
       "      <th>1</th>\n",
       "      <td>2391</td>\n",
       "      <td>1.99</td>\n",
       "    </tr>\n",
       "    <tr>\n",
       "      <th>2</th>\n",
       "      <td>2156</td>\n",
       "      <td>9.99</td>\n",
       "    </tr>\n",
       "    <tr>\n",
       "      <th>3</th>\n",
       "      <td>502</td>\n",
       "      <td>0.99</td>\n",
       "    </tr>\n",
       "    <tr>\n",
       "      <th>4</th>\n",
       "      <td>2198</td>\n",
       "      <td>2.99</td>\n",
       "    </tr>\n",
       "  </tbody>\n",
       "</table>\n",
       "</div>"
      ],
      "text/plain": [
       "   userid  price\n",
       "0    2472   4.99\n",
       "1    2391   1.99\n",
       "2    2156   9.99\n",
       "3     502   0.99\n",
       "4    2198   2.99"
      ]
     },
     "execution_count": 8,
     "metadata": {},
     "output_type": "execute_result"
    }
   ],
   "source": [
    "userPurchases = buyclicksDF[['userid','price']] #select only userid and price\n",
    "userPurchases.head(n=5)"
   ]
  },
  {
   "cell_type": "markdown",
   "metadata": {},
   "source": [
    "<br><br><br><br>\n",
    "\n",
    "<div style=\"color:black;font-family: Arial; font-size:1.1em;line-height:65%\">\n",
    "\n",
    "<p style=\"line-height:31px;\">Similarly, from the adclicksDF,  we will use the 'adCount' as an attribute that captures user's inclination to click on ads. The following command selects 'userid' and 'adCount' and drops all other columns that we do not want to use at this stage.</p>\n",
    "\n",
    "\n",
    "</div>\n",
    "\n",
    "<br><br><br><br>"
   ]
  },
  {
   "cell_type": "code",
   "execution_count": 9,
   "metadata": {
    "collapsed": false
   },
   "outputs": [],
   "source": [
    "useradClicks = adclicksDF[['userid','adCount']]"
   ]
  },
  {
   "cell_type": "code",
   "execution_count": 10,
   "metadata": {
    "collapsed": false
   },
   "outputs": [
    {
     "data": {
      "text/html": [
       "<div>\n",
       "<table border=\"1\" class=\"dataframe\">\n",
       "  <thead>\n",
       "    <tr style=\"text-align: right;\">\n",
       "      <th></th>\n",
       "      <th>userid</th>\n",
       "      <th>adCount</th>\n",
       "    </tr>\n",
       "  </thead>\n",
       "  <tbody>\n",
       "    <tr>\n",
       "      <th>0</th>\n",
       "      <td>1362</td>\n",
       "      <td>1</td>\n",
       "    </tr>\n",
       "    <tr>\n",
       "      <th>1</th>\n",
       "      <td>38</td>\n",
       "      <td>1</td>\n",
       "    </tr>\n",
       "    <tr>\n",
       "      <th>2</th>\n",
       "      <td>766</td>\n",
       "      <td>1</td>\n",
       "    </tr>\n",
       "    <tr>\n",
       "      <th>3</th>\n",
       "      <td>999</td>\n",
       "      <td>1</td>\n",
       "    </tr>\n",
       "    <tr>\n",
       "      <th>4</th>\n",
       "      <td>1674</td>\n",
       "      <td>1</td>\n",
       "    </tr>\n",
       "  </tbody>\n",
       "</table>\n",
       "</div>"
      ],
      "text/plain": [
       "   userid  adCount\n",
       "0    1362        1\n",
       "1      38        1\n",
       "2     766        1\n",
       "3     999        1\n",
       "4    1674        1"
      ]
     },
     "execution_count": 10,
     "metadata": {},
     "output_type": "execute_result"
    }
   ],
   "source": [
    "useradClicks.head(n=5) #as we saw before, this line displays first five lines"
   ]
  },
  {
   "cell_type": "markdown",
   "metadata": {},
   "source": [
    "<br><br>\n",
    "<u><h1 style=\"font-family: Arial; font-size:1.5em;color:#2462C0\">Step 2: Training Data Set Creation</h1></u>\n",
    "<br><br><h1 style=\"font-family: Arial; font-size:1.5em;color:#2462C0\">Create the first aggregate feature for clustering</h1><br><br> \n",
    "\n",
    "\n",
    "<div style=\"color:black;font-family: Arial; font-size:1.1em;line-height:65%\">\n",
    "\n",
    "<p style=\"line-height:31px;\">From each of these single ad-clicks per row, we can now generate total ad clicks per user. Let's pick a user with userid = 3. To find out how many ads this user has clicked overall, we have to find each row that contains userid = 3, and report the total number of such rows.\n",
    "\n",
    "The following commands sum the total number of ads per user and rename the columns to be called 'userid' and 'totalAdClicks'. <b> Note that you may not need to aggregate (e.g. sum over many rows) if you choose a different feature and your data set already provides the necessary information. </b> In the end, we want to get one row per user, if we are performing clustering over users.\n",
    "\n",
    "</div>\n",
    "\n",
    "<br><br><br><br>"
   ]
  },
  {
   "cell_type": "code",
   "execution_count": 11,
   "metadata": {
    "collapsed": false
   },
   "outputs": [],
   "source": [
    "adsPerUser = useradClicks.groupby('userid').sum()\n",
    "adsPerUser = adsPerUser.reset_index()\n",
    "adsPerUser.columns = ['userid', 'totalAdClicks'] #rename the columns"
   ]
  },
  {
   "cell_type": "markdown",
   "metadata": {},
   "source": [
    "<br><br><br><br>\n",
    "\n",
    "<div style=\"color:black;font-family: Arial; font-size:1.1em;line-height:65%\">\n",
    "\n",
    "<p style=\"line-height:31px;\">Let us display the first 5 lines of 'adsPerUser' to see if there\n",
    "is a column named 'totalAdClicks' containing total adclicks per user.</p>\n",
    "\n",
    "</div>\n",
    "\n",
    "<br><br><br><br>"
   ]
  },
  {
   "cell_type": "code",
   "execution_count": 12,
   "metadata": {
    "collapsed": false
   },
   "outputs": [
    {
     "data": {
      "text/html": [
       "<div>\n",
       "<table border=\"1\" class=\"dataframe\">\n",
       "  <thead>\n",
       "    <tr style=\"text-align: right;\">\n",
       "      <th></th>\n",
       "      <th>userid</th>\n",
       "      <th>totalAdClicks</th>\n",
       "    </tr>\n",
       "  </thead>\n",
       "  <tbody>\n",
       "    <tr>\n",
       "      <th>0</th>\n",
       "      <td>3</td>\n",
       "      <td>33</td>\n",
       "    </tr>\n",
       "    <tr>\n",
       "      <th>1</th>\n",
       "      <td>4</td>\n",
       "      <td>44</td>\n",
       "    </tr>\n",
       "    <tr>\n",
       "      <th>2</th>\n",
       "      <td>9</td>\n",
       "      <td>43</td>\n",
       "    </tr>\n",
       "    <tr>\n",
       "      <th>3</th>\n",
       "      <td>17</td>\n",
       "      <td>32</td>\n",
       "    </tr>\n",
       "    <tr>\n",
       "      <th>4</th>\n",
       "      <td>20</td>\n",
       "      <td>40</td>\n",
       "    </tr>\n",
       "  </tbody>\n",
       "</table>\n",
       "</div>"
      ],
      "text/plain": [
       "   userid  totalAdClicks\n",
       "0       3             33\n",
       "1       4             44\n",
       "2       9             43\n",
       "3      17             32\n",
       "4      20             40"
      ]
     },
     "execution_count": 12,
     "metadata": {},
     "output_type": "execute_result"
    }
   ],
   "source": [
    "adsPerUser.head(n=5)"
   ]
  },
  {
   "cell_type": "markdown",
   "metadata": {},
   "source": [
    "<br><br>\n",
    "\n",
    "<br><br><h1 style=\"font-family: Arial; font-size:1.5em;color:#2462C0\">Create the second aggregate feature for clustering</h1><br><br> \n",
    "\n",
    "\n",
    "<div style=\"color:black;font-family: Arial; font-size:1.1em;line-height:65%\">\n",
    "\n",
    "<p style=\"line-height:31px;\">Similar to what we did for adclicks, here we find out how much money in total did each user spend on buying in-app purchases. As an example, let's pick a user with userid = 9. To find out the total money spent by this user, we have to find each row that contains userid = 9, and report the sum of the column'price' of each product they purchased.\n",
    "\n",
    "The following commands sum the total money spent by each user and rename the columns to be called 'userid' and 'revenue'.\n",
    "<br><br>\n",
    "\n",
    "<p style=\"line-height:31px;\"> <b> Note: </b> that you can also use other aggregates, such as sum of money spent on a specific ad category by a user or on a set of ad categories by each user, game clicks per hour by each user etc. You are free to use any mathematical operations on the fields provided in the CSV files when creating features. </p>\n",
    "\n",
    "\n",
    "</div>\n",
    "\n",
    "<br><br><br><br> "
   ]
  },
  {
   "cell_type": "code",
   "execution_count": 13,
   "metadata": {
    "collapsed": false
   },
   "outputs": [],
   "source": [
    "revenuePerUser = userPurchases.groupby('userid').sum()\n",
    "revenuePerUser = revenuePerUser.reset_index()\n",
    "revenuePerUser.columns = ['userid', 'revenue'] #rename the columns"
   ]
  },
  {
   "cell_type": "code",
   "execution_count": 14,
   "metadata": {
    "collapsed": false
   },
   "outputs": [
    {
     "data": {
      "text/html": [
       "<div>\n",
       "<table border=\"1\" class=\"dataframe\">\n",
       "  <thead>\n",
       "    <tr style=\"text-align: right;\">\n",
       "      <th></th>\n",
       "      <th>userid</th>\n",
       "      <th>revenue</th>\n",
       "    </tr>\n",
       "  </thead>\n",
       "  <tbody>\n",
       "    <tr>\n",
       "      <th>0</th>\n",
       "      <td>3</td>\n",
       "      <td>11.97</td>\n",
       "    </tr>\n",
       "    <tr>\n",
       "      <th>1</th>\n",
       "      <td>4</td>\n",
       "      <td>27.95</td>\n",
       "    </tr>\n",
       "    <tr>\n",
       "      <th>2</th>\n",
       "      <td>9</td>\n",
       "      <td>10.94</td>\n",
       "    </tr>\n",
       "    <tr>\n",
       "      <th>3</th>\n",
       "      <td>17</td>\n",
       "      <td>5.97</td>\n",
       "    </tr>\n",
       "    <tr>\n",
       "      <th>4</th>\n",
       "      <td>20</td>\n",
       "      <td>69.92</td>\n",
       "    </tr>\n",
       "  </tbody>\n",
       "</table>\n",
       "</div>"
      ],
      "text/plain": [
       "   userid  revenue\n",
       "0       3    11.97\n",
       "1       4    27.95\n",
       "2       9    10.94\n",
       "3      17     5.97\n",
       "4      20    69.92"
      ]
     },
     "execution_count": 14,
     "metadata": {},
     "output_type": "execute_result"
    }
   ],
   "source": [
    "revenuePerUser.head(n=5)"
   ]
  },
  {
   "cell_type": "markdown",
   "metadata": {},
   "source": [
    "<br><br>\n",
    "<br><br><h1 style=\"font-family: Arial; font-size:1.5em;color:#2462C0\">Merge the two tables</h1><br><br> \n",
    "\n",
    "<div style=\"color:black;font-family: Arial; font-size:1.1em;line-height:65%\">\n",
    "\n",
    "<p style=\"line-height:31px;\">Lets see what we have so far. We have a table called revenuePerUser, where each row contains total money a user (with that 'userid') has spent. We also have another table called adsPerUser where each row contains total number of ads a user has clicked. We will use revenuePerUser and adsPerUser as features / attributes to capture our users' behavior.<br><br>\n",
    "\n",
    "Let us combine these two attributes (features) so that each row contains both attributes per user. Let's merge these two tables to get one single table we can use for K-Means clustering.\n",
    "</div>\n",
    "\n",
    "<br><br><br><br> "
   ]
  },
  {
   "cell_type": "code",
   "execution_count": 15,
   "metadata": {
    "collapsed": false
   },
   "outputs": [],
   "source": [
    "combinedDF = adsPerUser.merge(revenuePerUser, on='userid') #userid, adCount, price"
   ]
  },
  {
   "cell_type": "markdown",
   "metadata": {},
   "source": [
    "<br><br><br><br>\n",
    "\n",
    "<div style=\"color:black;font-family: Arial; font-size:1.1em;line-height:65%\">\n",
    "\n",
    "\n",
    "<p style=\"line-height:31px;\">Let us display the first 5 lines of the merged table. <b> Note: Depending on what attributes you choose, you may not need to merge tables. You may get all your attributes from a single table. </b></p>\n",
    "\n",
    "</div>\n",
    "\n",
    "<br><br><br><br>"
   ]
  },
  {
   "cell_type": "code",
   "execution_count": 16,
   "metadata": {
    "collapsed": false
   },
   "outputs": [
    {
     "data": {
      "text/html": [
       "<div>\n",
       "<table border=\"1\" class=\"dataframe\">\n",
       "  <thead>\n",
       "    <tr style=\"text-align: right;\">\n",
       "      <th></th>\n",
       "      <th>userid</th>\n",
       "      <th>totalAdClicks</th>\n",
       "      <th>revenue</th>\n",
       "    </tr>\n",
       "  </thead>\n",
       "  <tbody>\n",
       "    <tr>\n",
       "      <th>0</th>\n",
       "      <td>3</td>\n",
       "      <td>33</td>\n",
       "      <td>11.97</td>\n",
       "    </tr>\n",
       "    <tr>\n",
       "      <th>1</th>\n",
       "      <td>4</td>\n",
       "      <td>44</td>\n",
       "      <td>27.95</td>\n",
       "    </tr>\n",
       "    <tr>\n",
       "      <th>2</th>\n",
       "      <td>9</td>\n",
       "      <td>43</td>\n",
       "      <td>10.94</td>\n",
       "    </tr>\n",
       "    <tr>\n",
       "      <th>3</th>\n",
       "      <td>17</td>\n",
       "      <td>32</td>\n",
       "      <td>5.97</td>\n",
       "    </tr>\n",
       "    <tr>\n",
       "      <th>4</th>\n",
       "      <td>20</td>\n",
       "      <td>40</td>\n",
       "      <td>69.92</td>\n",
       "    </tr>\n",
       "  </tbody>\n",
       "</table>\n",
       "</div>"
      ],
      "text/plain": [
       "   userid  totalAdClicks  revenue\n",
       "0       3             33    11.97\n",
       "1       4             44    27.95\n",
       "2       9             43    10.94\n",
       "3      17             32     5.97\n",
       "4      20             40    69.92"
      ]
     },
     "execution_count": 16,
     "metadata": {},
     "output_type": "execute_result"
    }
   ],
   "source": [
    "combinedDF.head(n=5) #display how the merged table looks"
   ]
  },
  {
   "cell_type": "markdown",
   "metadata": {},
   "source": [
    "<br><br>\n",
    "\n",
    "<br><br><h1 style=\"font-family: Arial; font-size:1.5em;color:#2462C0\">Create the final training dataset</h1><br><br> \n",
    "\n",
    "<div style=\"color:black;font-family: Arial; font-size:1.1em;line-height:65%\">\n",
    "\n",
    "<p style=\"line-height:31px;\">Our training data set is almost ready. At this stage we can remove the 'userid' from each row, since 'userid' is a computer generated random number assigned to each user. It does not capture any behavioral aspect of a user. One way to drop the 'userid', is to select the other two columns. </p>\n",
    "\n",
    "</div>\n",
    "\n",
    "<br><br><br><br>"
   ]
  },
  {
   "cell_type": "code",
   "execution_count": 17,
   "metadata": {
    "collapsed": false
   },
   "outputs": [
    {
     "data": {
      "text/html": [
       "<div>\n",
       "<table border=\"1\" class=\"dataframe\">\n",
       "  <thead>\n",
       "    <tr style=\"text-align: right;\">\n",
       "      <th></th>\n",
       "      <th>totalAdClicks</th>\n",
       "      <th>revenue</th>\n",
       "    </tr>\n",
       "  </thead>\n",
       "  <tbody>\n",
       "    <tr>\n",
       "      <th>0</th>\n",
       "      <td>33</td>\n",
       "      <td>11.97</td>\n",
       "    </tr>\n",
       "    <tr>\n",
       "      <th>1</th>\n",
       "      <td>44</td>\n",
       "      <td>27.95</td>\n",
       "    </tr>\n",
       "    <tr>\n",
       "      <th>2</th>\n",
       "      <td>43</td>\n",
       "      <td>10.94</td>\n",
       "    </tr>\n",
       "    <tr>\n",
       "      <th>3</th>\n",
       "      <td>32</td>\n",
       "      <td>5.97</td>\n",
       "    </tr>\n",
       "    <tr>\n",
       "      <th>4</th>\n",
       "      <td>40</td>\n",
       "      <td>69.92</td>\n",
       "    </tr>\n",
       "  </tbody>\n",
       "</table>\n",
       "</div>"
      ],
      "text/plain": [
       "   totalAdClicks  revenue\n",
       "0             33    11.97\n",
       "1             44    27.95\n",
       "2             43    10.94\n",
       "3             32     5.97\n",
       "4             40    69.92"
      ]
     },
     "execution_count": 17,
     "metadata": {},
     "output_type": "execute_result"
    }
   ],
   "source": [
    "trainingDF = combinedDF[['totalAdClicks','revenue']]\n",
    "trainingDF.head(n=5)"
   ]
  },
  {
   "cell_type": "markdown",
   "metadata": {},
   "source": [
    "<br><br>\n",
    "<br><br><h1 style=\"font-family: Arial; font-size:1.5em;color:#2462C0\">Display the dimensions of the training dataset</h1><br><br> \n",
    "\n",
    "\n",
    "<div style=\"color:black;font-family: Arial; font-size:1.1em;line-height:65%\">\n",
    "\n",
    "<p style=\"line-height:31px;\">Display the dimension of the training data set. To display the dimensions of the trainingDF, simply add .shape as a suffix and hit enter.</p>\n",
    "\n",
    "</div>\n",
    "\n",
    "<br><br><br><br>\n"
   ]
  },
  {
   "cell_type": "code",
   "execution_count": 18,
   "metadata": {
    "collapsed": false
   },
   "outputs": [
    {
     "data": {
      "text/plain": [
       "(604, 2)"
      ]
     },
     "execution_count": 18,
     "metadata": {},
     "output_type": "execute_result"
    }
   ],
   "source": [
    "trainingDF.shape"
   ]
  },
  {
   "cell_type": "markdown",
   "metadata": {},
   "source": [
    "<br><br><br><br>\n",
    "\n",
    "<div style=\"color:black;font-family: Arial; font-size:1.1em;line-height:65%\">\n",
    "\n",
    "<p style=\"line-height:31px;\">The following two commands convert the tables we created into a format that can be understood by the KMeans.train function. <br><br>\n",
    "\n",
    "line[0] refers to the first column. line[1] refers to the second column. If you have more than 2 columns in your training table, modify this command by adding line[2], line[3], line[4] ...</p>\n",
    "\n",
    "</div>\n",
    "\n",
    "<br><br><br><br>\n"
   ]
  },
  {
   "cell_type": "code",
   "execution_count": 20,
   "metadata": {
    "collapsed": false
   },
   "outputs": [],
   "source": [
    "pDF = sqlContext.createDataFrame(trainingDF)\n",
    "parsedData = pDF.rdd.map(lambda line: array([line[0], line[1]])) #totalAdClicks, revenue"
   ]
  },
  {
   "cell_type": "markdown",
   "metadata": {
    "collapsed": false
   },
   "source": [
    "<br>\n",
    "<u><h1 style=\"font-family: Arial; font-size:1.5em;color:#2462C0\">Step 3: Train to Create Cluster Centers</u></h1>\n",
    "<br><br><h1 style=\"font-family: Arial; font-size:1.5em;color:#2462C0\">Train KMeans model</h1><br><br> "
   ]
  },
  {
   "cell_type": "markdown",
   "metadata": {},
   "source": [
    "<br><br><br><br>\n",
    "\n",
    "<div style=\"color:black;font-family: Arial; font-size:1.1em;line-height:65%\">\n",
    "\n",
    "<p style=\"line-height:31px;\">Here we are creating two clusters as denoted in the second argument.</p>\n",
    "\n",
    "</div>\n",
    "\n",
    "<br><br><br><br>\n"
   ]
  },
  {
   "cell_type": "code",
   "execution_count": null,
   "metadata": {
    "collapsed": true
   },
   "outputs": [],
   "source": [
    "my_kmmodel = KMeans.train(parsedData, 2, maxIterations=10, runs=10, initializationMode=\"random\")"
   ]
  },
  {
   "cell_type": "markdown",
   "metadata": {},
   "source": [
    "<br><br><h1 style=\"font-family: Arial; font-size:1.5em;color:#2462C0\">Display the centers of two clusters formed</h1><br><br> "
   ]
  },
  {
   "cell_type": "code",
   "execution_count": 22,
   "metadata": {
    "collapsed": false,
    "scrolled": true
   },
   "outputs": [
    {
     "name": "stdout",
     "output_type": "stream",
     "text": [
      "[array([ 41.29090909,  61.92224242]), array([ 25.15489749,  15.48749431])]\n"
     ]
    }
   ],
   "source": [
    "print(my_kmmodel.centers)"
   ]
  },
  {
   "cell_type": "markdown",
   "metadata": {},
   "source": [
    "<br><u><h1 style=\"font-family: Arial; font-size:1.5em;color:#2462C0\">Step 4: Recommend Actions</h1></u>\n",
    "<br><h1 style=\"font-family: Arial; font-size:1.5em;color:#2462C0\">Analyze the cluster centers\n",
    "</h1>\n",
    "\n",
    "<br><br> \n",
    "\n",
    "<div style=\"color:black;font-family: Arial; font-size:1.1em;line-height:65%\">\n",
    "\n",
    "<p style=\"line-height:31px;\">Each array denotes the center for a cluster:<br><br>\n",
    "One Cluster is centered at   ... array([ 25.15489749,  15.48749431])<br>\n",
    "Other Cluster is centered at   ... array([ 41.29090909,  61.92224242])</p>\n",
    "\n",
    "<br><br>\n",
    "\n",
    "<p style=\"line-height:31px;\"> First number (field1) in each array refers to number of ad-clicks and the second number (field2) is the revenue per user.\n",
    "\n",
    "Compare the 1st number of each cluster to see how differently users in each cluster behave when it comes to clicking ads.\n",
    "\n",
    "Compare the 2nd number of each cluster to see how differently users in each cluster behave when it comes to buying stuff. \n",
    "\n",
    "</p><br><br>\n",
    "\n",
    "<p style=\"line-height:31px;\">In one cluster, in general, players click on ads much more often (~1.6 times) and spend more money (~4 times) on in-app purchases. Assuming that Eglence Inc. gets paid for showing ads and for hosting in-app purchase items, we can use this information to increase game's revenue by increasing the prices for ads we show to the frequent-clickers, and charge higher fees for hosting the in-app purchase items shown to the higher revenue generating buyers.</p>\n",
    "\n",
    "<br><br>\n",
    "<p style=\"line-height:31px;\"> <b> Note: </b>  This analysis requires you to compare the cluster centers and find any ‘significant’ differences in the corresponding feature values of the  centers. The answer to this question will depend on the features you have chosen. <br><br> Some features help distinguish the clusters remarkably while others may not tell you much. At this point, if you don’t find clear distinguishing patterns, perhaps re-running the clustering model with different numbers of clusters and revising the features you picked would be a good idea. </p>\n",
    "\n",
    "</div>\n"
   ]
  }
 ],
 "metadata": {
  "kernelspec": {
   "display_name": "Python 2",
   "language": "python",
   "name": "python2"
  },
  "language_info": {
   "codemirror_mode": {
    "name": "ipython",
    "version": 2
   },
   "file_extension": ".py",
   "mimetype": "text/x-python",
   "name": "python",
   "nbconvert_exporter": "python",
   "pygments_lexer": "ipython2",
   "version": "2.7.11"
  }
 },
 "nbformat": 4,
 "nbformat_minor": 0
}
