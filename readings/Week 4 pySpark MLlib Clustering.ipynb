{
 "cells": [
  {
   "cell_type": "code",
   "execution_count": 34,
   "metadata": {
    "collapsed": true
   },
   "outputs": [],
   "source": [
    "import pandas as pd\n",
    "from pyspark.mllib.clustering import KMeans, KMeansModel\n",
    "from numpy import array"
   ]
  },
  {
   "cell_type": "markdown",
   "metadata": {},
   "source": [
    "#### Read ad-clicks.csv file"
   ]
  },
  {
   "cell_type": "code",
   "execution_count": 35,
   "metadata": {
    "collapsed": true
   },
   "outputs": [],
   "source": [
    "adclicksDF = pd.read_csv('/Users/aloksingh/Downloads/capstone/second/courseraDataSimulation/ad-clicks.csv')\n",
    "adclicksDF = adclicksDF.rename(columns=lambda x: x.strip()) #remove whitespaces from headers\n",
    "adclicksDF['adCount'] = 1 #each row is a single click, hence add extra column and make it =1"
   ]
  },
  {
   "cell_type": "code",
   "execution_count": 36,
   "metadata": {
    "collapsed": false
   },
   "outputs": [
    {
     "data": {
      "text/html": [
       "<div>\n",
       "<table border=\"1\" class=\"dataframe\">\n",
       "  <thead>\n",
       "    <tr style=\"text-align: right;\">\n",
       "      <th></th>\n",
       "      <th>timestamp</th>\n",
       "      <th>txID</th>\n",
       "      <th>userSessionid</th>\n",
       "      <th>teamid</th>\n",
       "      <th>userid</th>\n",
       "      <th>adID</th>\n",
       "      <th>adCategory</th>\n",
       "      <th>adCount</th>\n",
       "    </tr>\n",
       "  </thead>\n",
       "  <tbody>\n",
       "    <tr>\n",
       "      <th>0</th>\n",
       "      <td>2016-05-23 15:52:24</td>\n",
       "      <td>6045</td>\n",
       "      <td>6020</td>\n",
       "      <td>81</td>\n",
       "      <td>1362</td>\n",
       "      <td>10</td>\n",
       "      <td>fashion</td>\n",
       "      <td>1</td>\n",
       "    </tr>\n",
       "    <tr>\n",
       "      <th>1</th>\n",
       "      <td>2016-05-23 15:56:20</td>\n",
       "      <td>6043</td>\n",
       "      <td>6029</td>\n",
       "      <td>71</td>\n",
       "      <td>38</td>\n",
       "      <td>19</td>\n",
       "      <td>movies</td>\n",
       "      <td>1</td>\n",
       "    </tr>\n",
       "    <tr>\n",
       "      <th>2</th>\n",
       "      <td>2016-05-23 15:58:11</td>\n",
       "      <td>6038</td>\n",
       "      <td>5721</td>\n",
       "      <td>23</td>\n",
       "      <td>766</td>\n",
       "      <td>19</td>\n",
       "      <td>movies</td>\n",
       "      <td>1</td>\n",
       "    </tr>\n",
       "    <tr>\n",
       "      <th>3</th>\n",
       "      <td>2016-05-23 16:00:45</td>\n",
       "      <td>6046</td>\n",
       "      <td>5877</td>\n",
       "      <td>60</td>\n",
       "      <td>999</td>\n",
       "      <td>18</td>\n",
       "      <td>movies</td>\n",
       "      <td>1</td>\n",
       "    </tr>\n",
       "    <tr>\n",
       "      <th>4</th>\n",
       "      <td>2016-05-23 16:04:28</td>\n",
       "      <td>6037</td>\n",
       "      <td>5891</td>\n",
       "      <td>111</td>\n",
       "      <td>1674</td>\n",
       "      <td>1</td>\n",
       "      <td>automotive</td>\n",
       "      <td>1</td>\n",
       "    </tr>\n",
       "  </tbody>\n",
       "</table>\n",
       "</div>"
      ],
      "text/plain": [
       "             timestamp  txID  userSessionid  teamid  userid  adID  \\\n",
       "0  2016-05-23 15:52:24  6045           6020      81    1362    10   \n",
       "1  2016-05-23 15:56:20  6043           6029      71      38    19   \n",
       "2  2016-05-23 15:58:11  6038           5721      23     766    19   \n",
       "3  2016-05-23 16:00:45  6046           5877      60     999    18   \n",
       "4  2016-05-23 16:04:28  6037           5891     111    1674     1   \n",
       "\n",
       "    adCategory  adCount  \n",
       "0      fashion        1  \n",
       "1       movies        1  \n",
       "2       movies        1  \n",
       "3       movies        1  \n",
       "4   automotive        1  "
      ]
     },
     "execution_count": 36,
     "metadata": {},
     "output_type": "execute_result"
    }
   ],
   "source": [
    "adclicksDF.head(n=5) #display first 5 lines"
   ]
  },
  {
   "cell_type": "markdown",
   "metadata": {},
   "source": [
    "#### Read buy-clicks.csv file"
   ]
  },
  {
   "cell_type": "code",
   "execution_count": 37,
   "metadata": {
    "collapsed": false
   },
   "outputs": [],
   "source": [
    "buyClicksDF = pd.read_csv('/Users/aloksingh/Downloads/capstone/second/courseraDataSimulation/buy-clicks.csv')\n",
    "buyClicksDF = buyClicksDF.rename(columns=lambda x: x.strip()) #remove whitespaces from headers"
   ]
  },
  {
   "cell_type": "code",
   "execution_count": 38,
   "metadata": {
    "collapsed": false
   },
   "outputs": [
    {
     "data": {
      "text/html": [
       "<div>\n",
       "<table border=\"1\" class=\"dataframe\">\n",
       "  <thead>\n",
       "    <tr style=\"text-align: right;\">\n",
       "      <th></th>\n",
       "      <th>timestamp</th>\n",
       "      <th>txID</th>\n",
       "      <th>userSessionid</th>\n",
       "      <th>team</th>\n",
       "      <th>userid</th>\n",
       "      <th>buyid</th>\n",
       "      <th>price</th>\n",
       "    </tr>\n",
       "  </thead>\n",
       "  <tbody>\n",
       "    <tr>\n",
       "      <th>0</th>\n",
       "      <td>2016-05-23 16:19:14</td>\n",
       "      <td>6086</td>\n",
       "      <td>5692</td>\n",
       "      <td>115</td>\n",
       "      <td>2472</td>\n",
       "      <td>3</td>\n",
       "      <td>4.99</td>\n",
       "    </tr>\n",
       "    <tr>\n",
       "      <th>1</th>\n",
       "      <td>2016-05-23 16:19:14</td>\n",
       "      <td>6087</td>\n",
       "      <td>5690</td>\n",
       "      <td>33</td>\n",
       "      <td>2391</td>\n",
       "      <td>1</td>\n",
       "      <td>1.99</td>\n",
       "    </tr>\n",
       "    <tr>\n",
       "      <th>2</th>\n",
       "      <td>2016-05-23 16:49:14</td>\n",
       "      <td>6120</td>\n",
       "      <td>5693</td>\n",
       "      <td>6</td>\n",
       "      <td>2156</td>\n",
       "      <td>4</td>\n",
       "      <td>9.99</td>\n",
       "    </tr>\n",
       "    <tr>\n",
       "      <th>3</th>\n",
       "      <td>2016-05-23 16:49:14</td>\n",
       "      <td>6121</td>\n",
       "      <td>5689</td>\n",
       "      <td>69</td>\n",
       "      <td>502</td>\n",
       "      <td>0</td>\n",
       "      <td>0.99</td>\n",
       "    </tr>\n",
       "    <tr>\n",
       "      <th>4</th>\n",
       "      <td>2016-05-23 16:49:14</td>\n",
       "      <td>6122</td>\n",
       "      <td>5691</td>\n",
       "      <td>97</td>\n",
       "      <td>2198</td>\n",
       "      <td>2</td>\n",
       "      <td>2.99</td>\n",
       "    </tr>\n",
       "  </tbody>\n",
       "</table>\n",
       "</div>"
      ],
      "text/plain": [
       "             timestamp  txID  userSessionid  team  userid  buyid  price\n",
       "0  2016-05-23 16:19:14  6086           5692   115    2472      3   4.99\n",
       "1  2016-05-23 16:19:14  6087           5690    33    2391      1   1.99\n",
       "2  2016-05-23 16:49:14  6120           5693     6    2156      4   9.99\n",
       "3  2016-05-23 16:49:14  6121           5689    69     502      0   0.99\n",
       "4  2016-05-23 16:49:14  6122           5691    97    2198      2   2.99"
      ]
     },
     "execution_count": 38,
     "metadata": {},
     "output_type": "execute_result"
    }
   ],
   "source": [
    "buyClicksDF.head(n=5) #display first 5 lines"
   ]
  },
  {
   "cell_type": "markdown",
   "metadata": {},
   "source": [
    "#### Select 'price' "
   ]
  },
  {
   "cell_type": "code",
   "execution_count": 39,
   "metadata": {
    "collapsed": false
   },
   "outputs": [
    {
     "data": {
      "text/html": [
       "<div>\n",
       "<table border=\"1\" class=\"dataframe\">\n",
       "  <thead>\n",
       "    <tr style=\"text-align: right;\">\n",
       "      <th></th>\n",
       "      <th>userid</th>\n",
       "      <th>price</th>\n",
       "    </tr>\n",
       "  </thead>\n",
       "  <tbody>\n",
       "    <tr>\n",
       "      <th>0</th>\n",
       "      <td>2472</td>\n",
       "      <td>4.99</td>\n",
       "    </tr>\n",
       "    <tr>\n",
       "      <th>1</th>\n",
       "      <td>2391</td>\n",
       "      <td>1.99</td>\n",
       "    </tr>\n",
       "    <tr>\n",
       "      <th>2</th>\n",
       "      <td>2156</td>\n",
       "      <td>9.99</td>\n",
       "    </tr>\n",
       "    <tr>\n",
       "      <th>3</th>\n",
       "      <td>502</td>\n",
       "      <td>0.99</td>\n",
       "    </tr>\n",
       "    <tr>\n",
       "      <th>4</th>\n",
       "      <td>2198</td>\n",
       "      <td>2.99</td>\n",
       "    </tr>\n",
       "  </tbody>\n",
       "</table>\n",
       "</div>"
      ],
      "text/plain": [
       "   userid  price\n",
       "0    2472   4.99\n",
       "1    2391   1.99\n",
       "2    2156   9.99\n",
       "3     502   0.99\n",
       "4    2198   2.99"
      ]
     },
     "execution_count": 39,
     "metadata": {},
     "output_type": "execute_result"
    }
   ],
   "source": [
    "userPurchases = buyClicksDF[['userid','price']] #select only userid and price\n",
    "userPurchases.head(n=5)"
   ]
  },
  {
   "cell_type": "markdown",
   "metadata": {},
   "source": [
    "#### Select 'adCount' "
   ]
  },
  {
   "cell_type": "code",
   "execution_count": 40,
   "metadata": {
    "collapsed": false
   },
   "outputs": [
    {
     "data": {
      "text/html": [
       "<div>\n",
       "<table border=\"1\" class=\"dataframe\">\n",
       "  <thead>\n",
       "    <tr style=\"text-align: right;\">\n",
       "      <th></th>\n",
       "      <th>userid</th>\n",
       "      <th>adCount</th>\n",
       "    </tr>\n",
       "  </thead>\n",
       "  <tbody>\n",
       "    <tr>\n",
       "      <th>0</th>\n",
       "      <td>1362</td>\n",
       "      <td>1</td>\n",
       "    </tr>\n",
       "    <tr>\n",
       "      <th>1</th>\n",
       "      <td>38</td>\n",
       "      <td>1</td>\n",
       "    </tr>\n",
       "    <tr>\n",
       "      <th>2</th>\n",
       "      <td>766</td>\n",
       "      <td>1</td>\n",
       "    </tr>\n",
       "    <tr>\n",
       "      <th>3</th>\n",
       "      <td>999</td>\n",
       "      <td>1</td>\n",
       "    </tr>\n",
       "    <tr>\n",
       "      <th>4</th>\n",
       "      <td>1674</td>\n",
       "      <td>1</td>\n",
       "    </tr>\n",
       "  </tbody>\n",
       "</table>\n",
       "</div>"
      ],
      "text/plain": [
       "   userid  adCount\n",
       "0    1362        1\n",
       "1      38        1\n",
       "2     766        1\n",
       "3     999        1\n",
       "4    1674        1"
      ]
     },
     "execution_count": 40,
     "metadata": {},
     "output_type": "execute_result"
    }
   ],
   "source": [
    "useradClicks = adclicksDF[['userid','adCount']]\n",
    "useradClicks.head(n=5)"
   ]
  },
  {
   "cell_type": "markdown",
   "metadata": {},
   "source": [
    "#### Perform aggregation to get total ad-clicks per user (as  a feature / attribute)"
   ]
  },
  {
   "cell_type": "code",
   "execution_count": 55,
   "metadata": {
    "collapsed": false
   },
   "outputs": [
    {
     "data": {
      "text/html": [
       "<div>\n",
       "<table border=\"1\" class=\"dataframe\">\n",
       "  <thead>\n",
       "    <tr style=\"text-align: right;\">\n",
       "      <th></th>\n",
       "      <th>userid</th>\n",
       "      <th>totalAdClicks</th>\n",
       "    </tr>\n",
       "  </thead>\n",
       "  <tbody>\n",
       "    <tr>\n",
       "      <th>0</th>\n",
       "      <td>3</td>\n",
       "      <td>33</td>\n",
       "    </tr>\n",
       "    <tr>\n",
       "      <th>1</th>\n",
       "      <td>4</td>\n",
       "      <td>44</td>\n",
       "    </tr>\n",
       "    <tr>\n",
       "      <th>2</th>\n",
       "      <td>9</td>\n",
       "      <td>43</td>\n",
       "    </tr>\n",
       "    <tr>\n",
       "      <th>3</th>\n",
       "      <td>17</td>\n",
       "      <td>32</td>\n",
       "    </tr>\n",
       "    <tr>\n",
       "      <th>4</th>\n",
       "      <td>20</td>\n",
       "      <td>40</td>\n",
       "    </tr>\n",
       "  </tbody>\n",
       "</table>\n",
       "</div>"
      ],
      "text/plain": [
       "   userid  totalAdClicks\n",
       "0       3             33\n",
       "1       4             44\n",
       "2       9             43\n",
       "3      17             32\n",
       "4      20             40"
      ]
     },
     "execution_count": 55,
     "metadata": {},
     "output_type": "execute_result"
    }
   ],
   "source": [
    "adsPerUser = useradClicks.groupby('userid').sum()\n",
    "adsPerUser = adsPerUser.reset_index()\n",
    "adsPerUser.columns = ['userid', 'totalAdClicks'] #rename the columns\n",
    "adsPerUser.head(n=5)"
   ]
  },
  {
   "cell_type": "markdown",
   "metadata": {},
   "source": [
    "#### Perform aggregation to get total revenue per user (as  a feature / attribute) generated per user"
   ]
  },
  {
   "cell_type": "code",
   "execution_count": 56,
   "metadata": {
    "collapsed": false
   },
   "outputs": [
    {
     "data": {
      "text/html": [
       "<div>\n",
       "<table border=\"1\" class=\"dataframe\">\n",
       "  <thead>\n",
       "    <tr style=\"text-align: right;\">\n",
       "      <th></th>\n",
       "      <th>userid</th>\n",
       "      <th>revenue</th>\n",
       "    </tr>\n",
       "  </thead>\n",
       "  <tbody>\n",
       "    <tr>\n",
       "      <th>0</th>\n",
       "      <td>3</td>\n",
       "      <td>11.97</td>\n",
       "    </tr>\n",
       "    <tr>\n",
       "      <th>1</th>\n",
       "      <td>4</td>\n",
       "      <td>27.95</td>\n",
       "    </tr>\n",
       "    <tr>\n",
       "      <th>2</th>\n",
       "      <td>9</td>\n",
       "      <td>10.94</td>\n",
       "    </tr>\n",
       "    <tr>\n",
       "      <th>3</th>\n",
       "      <td>17</td>\n",
       "      <td>5.97</td>\n",
       "    </tr>\n",
       "    <tr>\n",
       "      <th>4</th>\n",
       "      <td>20</td>\n",
       "      <td>69.92</td>\n",
       "    </tr>\n",
       "  </tbody>\n",
       "</table>\n",
       "</div>"
      ],
      "text/plain": [
       "   userid  revenue\n",
       "0       3    11.97\n",
       "1       4    27.95\n",
       "2       9    10.94\n",
       "3      17     5.97\n",
       "4      20    69.92"
      ]
     },
     "execution_count": 56,
     "metadata": {},
     "output_type": "execute_result"
    }
   ],
   "source": [
    "revenuePerUser = userPurchases.groupby('userid').sum()\n",
    "revenuePerUser = revenuePerUser.reset_index()\n",
    "revenuePerUser.columns = ['userid', 'revenue'] #rename the columns\n",
    "revenuePerUser.head(n=5)"
   ]
  },
  {
   "cell_type": "markdown",
   "metadata": {},
   "source": [
    "#### Let's merge these two tables to get one single table we can use for training"
   ]
  },
  {
   "cell_type": "code",
   "execution_count": 57,
   "metadata": {
    "collapsed": false
   },
   "outputs": [
    {
     "data": {
      "text/html": [
       "<div>\n",
       "<table border=\"1\" class=\"dataframe\">\n",
       "  <thead>\n",
       "    <tr style=\"text-align: right;\">\n",
       "      <th></th>\n",
       "      <th>userid</th>\n",
       "      <th>totalAdClicks</th>\n",
       "      <th>revenue</th>\n",
       "    </tr>\n",
       "  </thead>\n",
       "  <tbody>\n",
       "    <tr>\n",
       "      <th>0</th>\n",
       "      <td>3</td>\n",
       "      <td>33</td>\n",
       "      <td>11.97</td>\n",
       "    </tr>\n",
       "    <tr>\n",
       "      <th>1</th>\n",
       "      <td>4</td>\n",
       "      <td>44</td>\n",
       "      <td>27.95</td>\n",
       "    </tr>\n",
       "    <tr>\n",
       "      <th>2</th>\n",
       "      <td>9</td>\n",
       "      <td>43</td>\n",
       "      <td>10.94</td>\n",
       "    </tr>\n",
       "    <tr>\n",
       "      <th>3</th>\n",
       "      <td>17</td>\n",
       "      <td>32</td>\n",
       "      <td>5.97</td>\n",
       "    </tr>\n",
       "    <tr>\n",
       "      <th>4</th>\n",
       "      <td>20</td>\n",
       "      <td>40</td>\n",
       "      <td>69.92</td>\n",
       "    </tr>\n",
       "  </tbody>\n",
       "</table>\n",
       "</div>"
      ],
      "text/plain": [
       "   userid  totalAdClicks  revenue\n",
       "0       3             33    11.97\n",
       "1       4             44    27.95\n",
       "2       9             43    10.94\n",
       "3      17             32     5.97\n",
       "4      20             40    69.92"
      ]
     },
     "execution_count": 57,
     "metadata": {},
     "output_type": "execute_result"
    }
   ],
   "source": [
    "trainingDF = adsPerUser.merge(revenuePerUser, on='userid') #userid, adCount, price\n",
    "trainingDF.head(n=5) #display how the merged table looks"
   ]
  },
  {
   "cell_type": "markdown",
   "metadata": {},
   "source": [
    "#### Display the dimension of the training data set"
   ]
  },
  {
   "cell_type": "code",
   "execution_count": 58,
   "metadata": {
    "collapsed": false
   },
   "outputs": [
    {
     "data": {
      "text/plain": [
       "(604, 3)"
      ]
     },
     "execution_count": 58,
     "metadata": {},
     "output_type": "execute_result"
    }
   ],
   "source": [
    "trainingDF.shape"
   ]
  },
  {
   "cell_type": "markdown",
   "metadata": {},
   "source": [
    "#### Remove userid before training and keep other two attributes"
   ]
  },
  {
   "cell_type": "code",
   "execution_count": 59,
   "metadata": {
    "collapsed": false
   },
   "outputs": [
    {
     "data": {
      "text/plain": [
       "[Row(userid=3, totalAdClicks=33, revenue=11.97),\n",
       " Row(userid=4, totalAdClicks=44, revenue=27.95),\n",
       " Row(userid=9, totalAdClicks=43, revenue=10.940000000000001),\n",
       " Row(userid=17, totalAdClicks=32, revenue=5.970000000000001),\n",
       " Row(userid=20, totalAdClicks=40, revenue=69.92)]"
      ]
     },
     "execution_count": 59,
     "metadata": {},
     "output_type": "execute_result"
    }
   ],
   "source": [
    "pDF = sqlContext.createDataFrame(trainingDF)\n",
    "pDF.head(n=5)"
   ]
  },
  {
   "cell_type": "code",
   "execution_count": 61,
   "metadata": {
    "collapsed": false
   },
   "outputs": [],
   "source": [
    "parsedData = pDF.rdd.map(lambda line: array([line[1], line[2]])) #totalAdClicks, price (revenue)"
   ]
  },
  {
   "cell_type": "markdown",
   "metadata": {},
   "source": [
    "#### Train KMeans model to create two clusters"
   ]
  },
  {
   "cell_type": "code",
   "execution_count": 62,
   "metadata": {
    "collapsed": false
   },
   "outputs": [],
   "source": [
    "clusters = KMeans.train(parsedData, 2, maxIterations=10, runs=10, initializationMode=\"random\")"
   ]
  },
  {
   "cell_type": "markdown",
   "metadata": {},
   "source": [
    "#### Display the centers of two clusters"
   ]
  },
  {
   "cell_type": "code",
   "execution_count": 63,
   "metadata": {
    "collapsed": false,
    "scrolled": true
   },
   "outputs": [
    {
     "name": "stdout",
     "output_type": "stream",
     "text": [
      "[array([ 41.29090909,  61.92224242]), array([ 25.15489749,  15.48749431])]\n"
     ]
    }
   ],
   "source": [
    "print(clusters.centers)"
   ]
  },
  {
   "cell_type": "markdown",
   "metadata": {},
   "source": [
    "#### Analyze the cluster centers: \n",
    "#### One Cluster is centered at [ 41.29090909, 61.92224242 ] \n",
    "#### Other Cluster is centered at [ 25.15489749, 15.48749431 ] \n",
    "#### In one cluster, players click on ads more often and spend more money on in-app purchases"
   ]
  },
  {
   "cell_type": "code",
   "execution_count": null,
   "metadata": {
    "collapsed": true
   },
   "outputs": [],
   "source": []
  }
 ],
 "metadata": {
  "kernelspec": {
   "display_name": "Python 2",
   "language": "python",
   "name": "python2"
  },
  "language_info": {
   "codemirror_mode": {
    "name": "ipython",
    "version": 2
   },
   "file_extension": ".py",
   "mimetype": "text/x-python",
   "name": "python",
   "nbconvert_exporter": "python",
   "pygments_lexer": "ipython2",
   "version": "2.7.11"
  }
 },
 "nbformat": 4,
 "nbformat_minor": 0
}
